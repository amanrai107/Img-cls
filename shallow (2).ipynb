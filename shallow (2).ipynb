{
 "cells": [
  {
   "cell_type": "code",
   "execution_count": 1,
   "metadata": {
    "colab": {
     "base_uri": "https://localhost:8080/",
     "height": 34
    },
    "colab_type": "code",
    "id": "nfTLo9AeKf4M",
    "outputId": "8460f6f8-faf5-43db-f568-a18e67d50700"
   },
   "outputs": [
    {
     "name": "stderr",
     "output_type": "stream",
     "text": [
      "Using TensorFlow backend.\n"
     ]
    }
   ],
   "source": [
    "import keras\n",
    "from keras.datasets import cifar10\n",
    "from keras.models import Sequential\n",
    "from keras.layers import Dense,Dropout,Flatten\n",
    "from keras.layers import Conv2D,MaxPooling2D,BatchNormalization\n",
    "from keras.optimizers import Adam\n",
    "\n",
    "batch_size = 128\n",
    "num_classes = 10\n",
    "epochs = 50\n",
    "\n",
    "(x_train,y_train) , (x_test,y_test)=cifar10.load_data()\n",
    "img_height,img_width,channel= x_train.shape[1],x_train.shape[2],x_train.shape[3]\n",
    "\n",
    "y_train = keras.utils.to_categorical(y_train,num_classes)\n",
    "y_test = keras.utils.to_categorical(y_test,num_classes)"
   ]
  },
  {
   "cell_type": "code",
   "execution_count": 2,
   "metadata": {
    "colab": {
     "base_uri": "https://localhost:8080/",
     "height": 88
    },
    "colab_type": "code",
    "id": "5cGSrtDtLE1R",
    "outputId": "c7bbc4b7-ade5-4d68-fc7b-2389cd8582d4"
   },
   "outputs": [
    {
     "name": "stdout",
     "output_type": "stream",
     "text": [
      "WARNING:tensorflow:From /usr/local/lib/python3.6/dist-packages/tensorflow/python/framework/op_def_library.py:263: colocate_with (from tensorflow.python.framework.ops) is deprecated and will be removed in a future version.\n",
      "Instructions for updating:\n",
      "Colocations handled automatically by placer.\n"
     ]
    }
   ],
   "source": [
    "classifier=Sequential()\n",
    "classifier.add(Conv2D(filters=96,kernel_size=(3,3),strides =(2,2),padding='same',input_shape=(img_height,img_width,channel),activation ='relu'))\n",
    "classifier.add(MaxPooling2D(pool_size=(2,2),strides=(2,2)))\n",
    "classifier.add(BatchNormalization())\n",
    "classifier.add(Conv2D(filters=256,kernel_size=(5,5),padding='same',activation ='relu'))\n",
    "classifier.add(MaxPooling2D(pool_size=(3,3),strides=(2,2)))\n",
    "classifier.add(BatchNormalization())"
   ]
  },
  {
   "cell_type": "code",
   "execution_count": 0,
   "metadata": {
    "colab": {},
    "colab_type": "code",
    "id": "QKdl1eo3LcbW"
   },
   "outputs": [],
   "source": [
    "classifier.add(Flatten())\n",
    "classifier.add(Dense(4096,activation='tanh'))"
   ]
  },
  {
   "cell_type": "code",
   "execution_count": 0,
   "metadata": {
    "colab": {},
    "colab_type": "code",
    "id": "90z_MynDLo04"
   },
   "outputs": [],
   "source": [
    "classifier.add(Dense(num_classes,activation='softmax'))"
   ]
  },
  {
   "cell_type": "code",
   "execution_count": 5,
   "metadata": {
    "colab": {
     "base_uri": "https://localhost:8080/",
     "height": 442
    },
    "colab_type": "code",
    "id": "FkGbkb-QLwVn",
    "outputId": "3b6d7a1e-6190-4616-b399-ee4e90239136"
   },
   "outputs": [
    {
     "name": "stdout",
     "output_type": "stream",
     "text": [
      "_________________________________________________________________\n",
      "Layer (type)                 Output Shape              Param #   \n",
      "=================================================================\n",
      "conv2d_1 (Conv2D)            (None, 16, 16, 96)        2688      \n",
      "_________________________________________________________________\n",
      "max_pooling2d_1 (MaxPooling2 (None, 8, 8, 96)          0         \n",
      "_________________________________________________________________\n",
      "batch_normalization_1 (Batch (None, 8, 8, 96)          384       \n",
      "_________________________________________________________________\n",
      "conv2d_2 (Conv2D)            (None, 8, 8, 256)         614656    \n",
      "_________________________________________________________________\n",
      "max_pooling2d_2 (MaxPooling2 (None, 3, 3, 256)         0         \n",
      "_________________________________________________________________\n",
      "batch_normalization_2 (Batch (None, 3, 3, 256)         1024      \n",
      "_________________________________________________________________\n",
      "flatten_1 (Flatten)          (None, 2304)              0         \n",
      "_________________________________________________________________\n",
      "dense_1 (Dense)              (None, 4096)              9441280   \n",
      "_________________________________________________________________\n",
      "dense_2 (Dense)              (None, 10)                40970     \n",
      "=================================================================\n",
      "Total params: 10,101,002\n",
      "Trainable params: 10,100,298\n",
      "Non-trainable params: 704\n",
      "_________________________________________________________________\n"
     ]
    }
   ],
   "source": [
    "classifier.summary()\n",
    "classifier.compile(loss='categorical_crossentropy',optimizer='adam',metrics=['accuracy'])"
   ]
  },
  {
   "cell_type": "code",
   "execution_count": 6,
   "metadata": {
    "colab": {
     "base_uri": "https://localhost:8080/",
     "height": 1822
    },
    "colab_type": "code",
    "id": "76J-npaoL2UK",
    "outputId": "982c9317-3435-4442-e51d-7f432b47f0fb"
   },
   "outputs": [
    {
     "name": "stdout",
     "output_type": "stream",
     "text": [
      "WARNING:tensorflow:From /usr/local/lib/python3.6/dist-packages/tensorflow/python/ops/math_ops.py:3066: to_int32 (from tensorflow.python.ops.math_ops) is deprecated and will be removed in a future version.\n",
      "Instructions for updating:\n",
      "Use tf.cast instead.\n",
      "Train on 50000 samples, validate on 10000 samples\n",
      "Epoch 1/50\n",
      "50000/50000 [==============================] - 38s 761us/step - loss: 1.7873 - acc: 0.4865 - val_loss: 1.3546 - val_acc: 0.5479\n",
      "Epoch 2/50\n",
      "50000/50000 [==============================] - 35s 697us/step - loss: 1.0462 - acc: 0.6434 - val_loss: 1.1008 - val_acc: 0.6225\n",
      "Epoch 3/50\n",
      "50000/50000 [==============================] - 35s 699us/step - loss: 0.7795 - acc: 0.7312 - val_loss: 1.2267 - val_acc: 0.6101\n",
      "Epoch 4/50\n",
      "50000/50000 [==============================] - 35s 696us/step - loss: 0.5772 - acc: 0.7986 - val_loss: 1.4257 - val_acc: 0.6066\n",
      "Epoch 5/50\n",
      "50000/50000 [==============================] - 35s 695us/step - loss: 0.4309 - acc: 0.8507 - val_loss: 1.3386 - val_acc: 0.6434\n",
      "Epoch 6/50\n",
      "50000/50000 [==============================] - 35s 701us/step - loss: 0.3056 - acc: 0.8923 - val_loss: 1.2260 - val_acc: 0.6878\n",
      "Epoch 7/50\n",
      "50000/50000 [==============================] - 35s 701us/step - loss: 0.2398 - acc: 0.9150 - val_loss: 1.6637 - val_acc: 0.6295\n",
      "Epoch 8/50\n",
      "50000/50000 [==============================] - 34s 688us/step - loss: 0.1880 - acc: 0.9331 - val_loss: 1.6579 - val_acc: 0.6437\n",
      "Epoch 9/50\n",
      "50000/50000 [==============================] - 35s 700us/step - loss: 0.1882 - acc: 0.9345 - val_loss: 1.4688 - val_acc: 0.6846\n",
      "Epoch 10/50\n",
      "50000/50000 [==============================] - 35s 702us/step - loss: 0.1872 - acc: 0.9346 - val_loss: 1.9164 - val_acc: 0.6432\n",
      "Epoch 11/50\n",
      "50000/50000 [==============================] - 35s 701us/step - loss: 0.1479 - acc: 0.9485 - val_loss: 1.9049 - val_acc: 0.6437\n",
      "Epoch 12/50\n",
      "50000/50000 [==============================] - 35s 692us/step - loss: 0.1386 - acc: 0.9526 - val_loss: 1.7620 - val_acc: 0.6696\n",
      "Epoch 13/50\n",
      "50000/50000 [==============================] - 35s 704us/step - loss: 0.1307 - acc: 0.9555 - val_loss: 1.8317 - val_acc: 0.6777\n",
      "Epoch 14/50\n",
      "50000/50000 [==============================] - 35s 701us/step - loss: 0.1279 - acc: 0.9556 - val_loss: 2.1162 - val_acc: 0.6515\n",
      "Epoch 15/50\n",
      "50000/50000 [==============================] - 35s 691us/step - loss: 0.1260 - acc: 0.9574 - val_loss: 2.0751 - val_acc: 0.6736\n",
      "Epoch 16/50\n",
      "50000/50000 [==============================] - 35s 696us/step - loss: 0.1549 - acc: 0.9503 - val_loss: 2.3156 - val_acc: 0.6415\n",
      "Epoch 17/50\n",
      "50000/50000 [==============================] - 35s 697us/step - loss: 0.1339 - acc: 0.9572 - val_loss: 2.1790 - val_acc: 0.6770\n",
      "Epoch 18/50\n",
      "50000/50000 [==============================] - 35s 698us/step - loss: 0.1041 - acc: 0.9647 - val_loss: 2.0611 - val_acc: 0.6909\n",
      "Epoch 19/50\n",
      "50000/50000 [==============================] - 35s 693us/step - loss: 0.0732 - acc: 0.9750 - val_loss: 2.0725 - val_acc: 0.6923\n",
      "Epoch 20/50\n",
      "50000/50000 [==============================] - 35s 701us/step - loss: 0.0893 - acc: 0.9704 - val_loss: 2.6579 - val_acc: 0.6380\n",
      "Epoch 21/50\n",
      "50000/50000 [==============================] - 35s 695us/step - loss: 0.1188 - acc: 0.9616 - val_loss: 2.6292 - val_acc: 0.6622\n",
      "Epoch 22/50\n",
      "50000/50000 [==============================] - 34s 688us/step - loss: 0.1113 - acc: 0.9652 - val_loss: 2.2768 - val_acc: 0.6838\n",
      "Epoch 23/50\n",
      "50000/50000 [==============================] - 35s 696us/step - loss: 0.0821 - acc: 0.9724 - val_loss: 2.6940 - val_acc: 0.6602\n",
      "Epoch 24/50\n",
      "50000/50000 [==============================] - 35s 698us/step - loss: 0.0898 - acc: 0.9722 - val_loss: 2.5401 - val_acc: 0.6619\n",
      "Epoch 25/50\n",
      "50000/50000 [==============================] - 35s 698us/step - loss: 0.0920 - acc: 0.9706 - val_loss: 2.5833 - val_acc: 0.6833\n",
      "Epoch 26/50\n",
      "50000/50000 [==============================] - 35s 691us/step - loss: 0.0897 - acc: 0.9719 - val_loss: 2.4038 - val_acc: 0.6939\n",
      "Epoch 27/50\n",
      "50000/50000 [==============================] - 35s 697us/step - loss: 0.0974 - acc: 0.9703 - val_loss: 2.5048 - val_acc: 0.6820\n",
      "Epoch 28/50\n",
      "50000/50000 [==============================] - 35s 695us/step - loss: 0.0872 - acc: 0.9734 - val_loss: 2.6215 - val_acc: 0.6816\n",
      "Epoch 29/50\n",
      "50000/50000 [==============================] - 34s 688us/step - loss: 0.0834 - acc: 0.9747 - val_loss: 2.9950 - val_acc: 0.6411\n",
      "Epoch 30/50\n",
      "50000/50000 [==============================] - 35s 696us/step - loss: 0.0705 - acc: 0.9781 - val_loss: 2.4646 - val_acc: 0.6944\n",
      "Epoch 31/50\n",
      "50000/50000 [==============================] - 35s 696us/step - loss: 0.0749 - acc: 0.9773 - val_loss: 2.5505 - val_acc: 0.6893\n",
      "Epoch 32/50\n",
      "50000/50000 [==============================] - 35s 698us/step - loss: 0.0867 - acc: 0.9742 - val_loss: 2.4594 - val_acc: 0.7106\n",
      "Epoch 33/50\n",
      "50000/50000 [==============================] - 34s 688us/step - loss: 0.0901 - acc: 0.9736 - val_loss: 2.4530 - val_acc: 0.7045\n",
      "Epoch 34/50\n",
      "50000/50000 [==============================] - 35s 698us/step - loss: 0.0881 - acc: 0.9748 - val_loss: 2.5909 - val_acc: 0.7116\n",
      "Epoch 35/50\n",
      "50000/50000 [==============================] - 35s 698us/step - loss: 0.0641 - acc: 0.9809 - val_loss: 2.5324 - val_acc: 0.7012\n",
      "Epoch 36/50\n",
      "50000/50000 [==============================] - 35s 694us/step - loss: 0.0689 - acc: 0.9800 - val_loss: 2.8880 - val_acc: 0.6732\n",
      "Epoch 37/50\n",
      "50000/50000 [==============================] - 35s 699us/step - loss: 0.0896 - acc: 0.9751 - val_loss: 2.8528 - val_acc: 0.6830\n",
      "Epoch 38/50\n",
      "50000/50000 [==============================] - 35s 700us/step - loss: 0.0886 - acc: 0.9749 - val_loss: 2.6227 - val_acc: 0.6981\n",
      "Epoch 39/50\n",
      "50000/50000 [==============================] - 35s 696us/step - loss: 0.0696 - acc: 0.9802 - val_loss: 2.5854 - val_acc: 0.6995\n",
      "Epoch 40/50\n",
      "50000/50000 [==============================] - 35s 694us/step - loss: 0.0698 - acc: 0.9796 - val_loss: 2.6858 - val_acc: 0.6966\n",
      "Epoch 41/50\n",
      "50000/50000 [==============================] - 35s 693us/step - loss: 0.0725 - acc: 0.9794 - val_loss: 2.6139 - val_acc: 0.7081\n",
      "Epoch 42/50\n",
      "50000/50000 [==============================] - 35s 695us/step - loss: 0.0687 - acc: 0.9806 - val_loss: 3.1097 - val_acc: 0.6650\n",
      "Epoch 43/50\n",
      "50000/50000 [==============================] - 34s 690us/step - loss: 0.0685 - acc: 0.9806 - val_loss: 2.5433 - val_acc: 0.7085\n",
      "Epoch 44/50\n",
      "50000/50000 [==============================] - 35s 695us/step - loss: 0.0744 - acc: 0.9797 - val_loss: 2.9750 - val_acc: 0.6802\n",
      "Epoch 45/50\n",
      "50000/50000 [==============================] - 35s 695us/step - loss: 0.0714 - acc: 0.9803 - val_loss: 2.7956 - val_acc: 0.6918\n",
      "Epoch 46/50\n",
      "50000/50000 [==============================] - 35s 695us/step - loss: 0.0641 - acc: 0.9821 - val_loss: 2.8360 - val_acc: 0.6991\n",
      "Epoch 47/50\n",
      "50000/50000 [==============================] - 34s 688us/step - loss: 0.0699 - acc: 0.9812 - val_loss: 2.9573 - val_acc: 0.6916\n",
      "Epoch 48/50\n",
      "50000/50000 [==============================] - 35s 695us/step - loss: 0.0631 - acc: 0.9831 - val_loss: 2.8732 - val_acc: 0.6986\n",
      "Epoch 49/50\n",
      "50000/50000 [==============================] - 35s 692us/step - loss: 0.0826 - acc: 0.9783 - val_loss: 2.9387 - val_acc: 0.6867\n",
      "Epoch 50/50\n",
      "50000/50000 [==============================] - 34s 684us/step - loss: 0.0764 - acc: 0.9803 - val_loss: 2.7577 - val_acc: 0.7046\n"
     ]
    },
    {
     "data": {
      "text/plain": [
       "<keras.callbacks.History at 0x7fc220582ac8>"
      ]
     },
     "execution_count": 6,
     "metadata": {
      "tags": []
     },
     "output_type": "execute_result"
    }
   ],
   "source": [
    "classifier.fit(x_train,y_train,batch_size=batch_size,epochs=epochs,verbose=1,validation_data=(x_test,y_test))\n"
   ]
  },
  {
   "cell_type": "code",
   "execution_count": 0,
   "metadata": {
    "colab": {},
    "colab_type": "code",
    "id": "Y90kk296L6OF"
   },
   "outputs": [],
   "source": []
  }
 ],
 "metadata": {
  "accelerator": "GPU",
  "colab": {
   "name": "Untitled3.ipynb",
   "provenance": [],
   "version": "0.3.2"
  },
  "kernelspec": {
   "display_name": "Python 3",
   "language": "python",
   "name": "python3"
  },
  "language_info": {
   "codemirror_mode": {
    "name": "ipython",
    "version": 3
   },
   "file_extension": ".py",
   "mimetype": "text/x-python",
   "name": "python",
   "nbconvert_exporter": "python",
   "pygments_lexer": "ipython3",
   "version": "3.7.2"
  }
 },
 "nbformat": 4,
 "nbformat_minor": 1
}
