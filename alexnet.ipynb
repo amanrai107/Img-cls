{
 "cells": [
  {
   "cell_type": "code",
   "execution_count": 1,
   "metadata": {
    "colab": {
     "base_uri": "https://localhost:8080/",
     "height": 34
    },
    "colab_type": "code",
    "id": "kPaarv-Pu6Uw",
    "outputId": "b7c2c611-742f-41a0-ea5b-e8921ae05c88"
   },
   "outputs": [
    {
     "name": "stderr",
     "output_type": "stream",
     "text": [
      "Using TensorFlow backend.\n"
     ]
    }
   ],
   "source": [
    "import keras\n",
    "from keras.datasets import cifar10\n",
    "from keras.models import Sequential\n",
    "from keras.layers import Dense,Dropout,Flatten\n",
    "from keras.layers import Conv2D,MaxPooling2D,BatchNormalization\n",
    "from keras.optimizers import Adam"
   ]
  },
  {
   "cell_type": "code",
   "execution_count": 2,
   "metadata": {
    "colab": {
     "base_uri": "https://localhost:8080/",
     "height": 51
    },
    "colab_type": "code",
    "id": "C4Os2eWWxnk3",
    "outputId": "45ffe958-804a-4609-d242-1d7fbbbc9b3a"
   },
   "outputs": [
    {
     "name": "stdout",
     "output_type": "stream",
     "text": [
      "Downloading data from https://www.cs.toronto.edu/~kriz/cifar-10-python.tar.gz\n",
      "170500096/170498071 [==============================] - 21s 0us/step\n"
     ]
    }
   ],
   "source": [
    "batch_size = 128\n",
    "num_classes = 10\n",
    "epochs = 50\n",
    "\n",
    "(x_train,y_train) , (x_test,y_test)=cifar10.load_data()\n",
    "img_height,img_width,channel= x_train.shape[1],x_train.shape[2],x_train.shape[3]\n",
    "\n",
    "y_train = keras.utils.to_categorical(y_train,num_classes)\n",
    "y_test = keras.utils.to_categorical(y_test,num_classes)"
   ]
  },
  {
   "cell_type": "code",
   "execution_count": 3,
   "metadata": {
    "colab": {
     "base_uri": "https://localhost:8080/",
     "height": 88
    },
    "colab_type": "code",
    "id": "oo4RlvtTxyvi",
    "outputId": "2b808517-6fb3-4dcc-faed-50c9a1ab395b"
   },
   "outputs": [
    {
     "name": "stdout",
     "output_type": "stream",
     "text": [
      "WARNING:tensorflow:From /usr/local/lib/python3.6/dist-packages/tensorflow/python/framework/op_def_library.py:263: colocate_with (from tensorflow.python.framework.ops) is deprecated and will be removed in a future version.\n",
      "Instructions for updating:\n",
      "Colocations handled automatically by placer.\n"
     ]
    }
   ],
   "source": [
    "model = Sequential([\n",
    "    Conv2D(64, (3, 3),input_shape=(img_height,img_width,channel), padding='same',\n",
    "           activation='relu'),\n",
    "    Conv2D(64, (3, 3), activation='relu', padding='same'),\n",
    "    MaxPooling2D(pool_size=(2, 2), strides=(2, 2)),BatchNormalization(),\n",
    "    Conv2D(128, (3, 3), activation='relu', padding='same'),\n",
    "    Conv2D(128, (3, 3), activation='relu', padding='same',),\n",
    "    MaxPooling2D(pool_size=(2, 2), strides=(2, 2)),BatchNormalization(),\n",
    "    Conv2D(256, (3, 3), activation='relu', padding='same',),\n",
    "    Conv2D(256, (3, 3), activation='relu', padding='same',),\n",
    "    Conv2D(256, (3, 3), activation='relu', padding='same',),\n",
    "    MaxPooling2D(pool_size=(2, 2), strides=(2, 2)),BatchNormalization(),\n",
    "    Conv2D(512, (3, 3), activation='relu', padding='same',),\n",
    "    Conv2D(512, (3, 3), activation='relu', padding='same',),\n",
    "    Conv2D(512, (3, 3), activation='relu', padding='same',),\n",
    "    MaxPooling2D(pool_size=(2, 2), strides=(2, 2)),BatchNormalization(),\n",
    "    Conv2D(512, (3, 3), activation='relu', padding='same',),\n",
    "    Conv2D(512, (3, 3), activation='relu', padding='same',),\n",
    "    Conv2D(512, (3, 3), activation='relu', padding='same',),\n",
    "    MaxPooling2D(pool_size=(2, 2), strides=(2, 2)),\n",
    "    Flatten(),\n",
    "    Dense(4096, activation='relu'),\n",
    "    Dense(4096, activation='relu'),\n",
    "    Dense(num_classes,activation='softmax')\n",
    "])"
   ]
  },
  {
   "cell_type": "code",
   "execution_count": 0,
   "metadata": {
    "colab": {},
    "colab_type": "code",
    "id": "Ck4CB-Vjx7Tr"
   },
   "outputs": [],
   "source": []
  },
  {
   "cell_type": "code",
   "execution_count": 4,
   "metadata": {
    "colab": {
     "base_uri": "https://localhost:8080/",
     "height": 1020
    },
    "colab_type": "code",
    "id": "Sfq7NzaXx9xl",
    "outputId": "bb30e493-7108-48f1-9806-6d4d8908aed9"
   },
   "outputs": [
    {
     "name": "stdout",
     "output_type": "stream",
     "text": [
      "_________________________________________________________________\n",
      "Layer (type)                 Output Shape              Param #   \n",
      "=================================================================\n",
      "conv2d_1 (Conv2D)            (None, 32, 32, 64)        1792      \n",
      "_________________________________________________________________\n",
      "conv2d_2 (Conv2D)            (None, 32, 32, 64)        36928     \n",
      "_________________________________________________________________\n",
      "max_pooling2d_1 (MaxPooling2 (None, 16, 16, 64)        0         \n",
      "_________________________________________________________________\n",
      "batch_normalization_1 (Batch (None, 16, 16, 64)        256       \n",
      "_________________________________________________________________\n",
      "conv2d_3 (Conv2D)            (None, 16, 16, 128)       73856     \n",
      "_________________________________________________________________\n",
      "conv2d_4 (Conv2D)            (None, 16, 16, 128)       147584    \n",
      "_________________________________________________________________\n",
      "max_pooling2d_2 (MaxPooling2 (None, 8, 8, 128)         0         \n",
      "_________________________________________________________________\n",
      "batch_normalization_2 (Batch (None, 8, 8, 128)         512       \n",
      "_________________________________________________________________\n",
      "conv2d_5 (Conv2D)            (None, 8, 8, 256)         295168    \n",
      "_________________________________________________________________\n",
      "conv2d_6 (Conv2D)            (None, 8, 8, 256)         590080    \n",
      "_________________________________________________________________\n",
      "conv2d_7 (Conv2D)            (None, 8, 8, 256)         590080    \n",
      "_________________________________________________________________\n",
      "max_pooling2d_3 (MaxPooling2 (None, 4, 4, 256)         0         \n",
      "_________________________________________________________________\n",
      "batch_normalization_3 (Batch (None, 4, 4, 256)         1024      \n",
      "_________________________________________________________________\n",
      "conv2d_8 (Conv2D)            (None, 4, 4, 512)         1180160   \n",
      "_________________________________________________________________\n",
      "conv2d_9 (Conv2D)            (None, 4, 4, 512)         2359808   \n",
      "_________________________________________________________________\n",
      "conv2d_10 (Conv2D)           (None, 4, 4, 512)         2359808   \n",
      "_________________________________________________________________\n",
      "max_pooling2d_4 (MaxPooling2 (None, 2, 2, 512)         0         \n",
      "_________________________________________________________________\n",
      "batch_normalization_4 (Batch (None, 2, 2, 512)         2048      \n",
      "_________________________________________________________________\n",
      "conv2d_11 (Conv2D)           (None, 2, 2, 512)         2359808   \n",
      "_________________________________________________________________\n",
      "conv2d_12 (Conv2D)           (None, 2, 2, 512)         2359808   \n",
      "_________________________________________________________________\n",
      "conv2d_13 (Conv2D)           (None, 2, 2, 512)         2359808   \n",
      "_________________________________________________________________\n",
      "max_pooling2d_5 (MaxPooling2 (None, 1, 1, 512)         0         \n",
      "_________________________________________________________________\n",
      "flatten_1 (Flatten)          (None, 512)               0         \n",
      "_________________________________________________________________\n",
      "dense_1 (Dense)              (None, 4096)              2101248   \n",
      "_________________________________________________________________\n",
      "dense_2 (Dense)              (None, 4096)              16781312  \n",
      "_________________________________________________________________\n",
      "dense_3 (Dense)              (None, 10)                40970     \n",
      "=================================================================\n",
      "Total params: 33,642,058\n",
      "Trainable params: 33,640,138\n",
      "Non-trainable params: 1,920\n",
      "_________________________________________________________________\n"
     ]
    }
   ],
   "source": [
    "model.summary()"
   ]
  },
  {
   "cell_type": "code",
   "execution_count": 0,
   "metadata": {
    "colab": {},
    "colab_type": "code",
    "id": "-mDwMm_XyHR6"
   },
   "outputs": [],
   "source": [
    "model.compile(loss='categorical_crossentropy',optimizer='adam',metrics=['accuracy'])\n"
   ]
  },
  {
   "cell_type": "code",
   "execution_count": 6,
   "metadata": {
    "colab": {
     "base_uri": "https://localhost:8080/",
     "height": 3332
    },
    "colab_type": "code",
    "id": "ofLYXKDCyI2l",
    "outputId": "99e3352a-5b0c-45b7-b7a7-1d64428b6431"
   },
   "outputs": [
    {
     "name": "stdout",
     "output_type": "stream",
     "text": [
      "50000/50000 [==============================] - 72s 1ms/step - loss: 1.2788 - acc: 0.5205 - val_loss: 1.3750 - val_acc: 0.5503\n",
      "50000/50000 [==============================] - 72s 1ms/step - loss: 1.2788 - acc: 0.5205 - val_loss: 1.3750 - val_acc: 0.5503\n",
      "Epoch 3/50\n",
      "  128/50000 [..............................] - ETA: 1:09 - loss: 1.1536 - acc: 0.5312Epoch 3/50\n",
      "50000/50000 [==============================] - 72s 1ms/step - loss: 0.9784 - acc: 0.6556 - val_loss: 1.0820 - val_acc: 0.6384\n",
      "50000/50000 [==============================] - 72s 1ms/step - loss: 0.9784 - acc: 0.6556 - val_loss: 1.0820 - val_acc: 0.6384\n",
      "Epoch 4/50\n",
      "  128/50000 [..............................] - ETA: 1:08 - loss: 0.7522 - acc: 0.7422Epoch 4/50\n",
      "50000/50000 [==============================] - 72s 1ms/step - loss: 0.7927 - acc: 0.7261 - val_loss: 0.9922 - val_acc: 0.6706\n",
      "50000/50000 [==============================] - 72s 1ms/step - loss: 0.7927 - acc: 0.7261 - val_loss: 0.9922 - val_acc: 0.6706\n",
      "Epoch 5/50\n",
      "  128/50000 [..............................] - ETA: 1:09 - loss: 0.7334 - acc: 0.7344Epoch 5/50\n",
      "50000/50000 [==============================] - 85s 2ms/step - loss: 0.6726 - acc: 0.7708 - val_loss: 0.8612 - val_acc: 0.7253\n",
      "50000/50000 [==============================] - 85s 2ms/step - loss: 0.6726 - acc: 0.7708 - val_loss: 0.8612 - val_acc: 0.7253\n",
      "Epoch 6/50\n",
      "Epoch 6/50\n",
      "50000/50000 [==============================] - 121s 2ms/step - loss: 0.5703 - acc: 0.8114 - val_loss: 0.8322 - val_acc: 0.7422\n",
      "50000/50000 [==============================] - 121s 2ms/step - loss: 0.5703 - acc: 0.8114 - val_loss: 0.8322 - val_acc: 0.7422\n",
      "Epoch 7/50\n",
      "Epoch 7/50\n",
      "50000/50000 [==============================] - 121s 2ms/step - loss: 0.4908 - acc: 0.8379 - val_loss: 0.6812 - val_acc: 0.7809\n",
      "50000/50000 [==============================] - 121s 2ms/step - loss: 0.4908 - acc: 0.8379 - val_loss: 0.6812 - val_acc: 0.7809\n",
      "Epoch 8/50\n",
      "Epoch 8/50\n",
      "50000/50000 [==============================] - 121s 2ms/step - loss: 0.4235 - acc: 0.8616 - val_loss: 0.6960 - val_acc: 0.7903\n",
      "50000/50000 [==============================] - 121s 2ms/step - loss: 0.4235 - acc: 0.8616 - val_loss: 0.6960 - val_acc: 0.7903\n",
      "Epoch 9/50\n",
      "Epoch 9/50\n",
      "50000/50000 [==============================] - 121s 2ms/step - loss: 0.3617 - acc: 0.8824 - val_loss: 0.7147 - val_acc: 0.7796\n",
      "50000/50000 [==============================] - 121s 2ms/step - loss: 0.3617 - acc: 0.8824 - val_loss: 0.7147 - val_acc: 0.7796\n",
      "Epoch 10/50\n",
      "Epoch 10/50\n",
      "50000/50000 [==============================] - 121s 2ms/step - loss: 0.3172 - acc: 0.8972 - val_loss: 0.7273 - val_acc: 0.7846\n",
      "50000/50000 [==============================] - 121s 2ms/step - loss: 0.3172 - acc: 0.8972 - val_loss: 0.7273 - val_acc: 0.7846\n",
      "Epoch 11/50\n",
      "Epoch 11/50\n",
      "50000/50000 [==============================] - 121s 2ms/step - loss: 0.2644 - acc: 0.9153 - val_loss: 0.8367 - val_acc: 0.7945\n",
      "50000/50000 [==============================] - 121s 2ms/step - loss: 0.2644 - acc: 0.9153 - val_loss: 0.8367 - val_acc: 0.7945\n",
      "Epoch 12/50\n",
      "Epoch 12/50\n",
      "50000/50000 [==============================] - 121s 2ms/step - loss: 0.2327 - acc: 0.9236 - val_loss: 0.6901 - val_acc: 0.8224\n",
      "50000/50000 [==============================] - 121s 2ms/step - loss: 0.2327 - acc: 0.9236 - val_loss: 0.6901 - val_acc: 0.8224\n",
      "Epoch 13/50\n",
      "Epoch 13/50\n",
      "50000/50000 [==============================] - 121s 2ms/step - loss: 0.1965 - acc: 0.9381 - val_loss: 0.7843 - val_acc: 0.7934\n",
      "50000/50000 [==============================] - 121s 2ms/step - loss: 0.1965 - acc: 0.9381 - val_loss: 0.7843 - val_acc: 0.7934\n",
      "Epoch 14/50\n",
      "Epoch 14/50\n",
      "50000/50000 [==============================] - 121s 2ms/step - loss: 0.1761 - acc: 0.9440 - val_loss: 0.6846 - val_acc: 0.8142\n",
      "50000/50000 [==============================] - 121s 2ms/step - loss: 0.1761 - acc: 0.9440 - val_loss: 0.6846 - val_acc: 0.8142\n",
      "Epoch 15/50\n",
      "Epoch 15/50\n",
      "50000/50000 [==============================] - 121s 2ms/step - loss: 0.1626 - acc: 0.9497 - val_loss: 0.7248 - val_acc: 0.8253\n",
      "50000/50000 [==============================] - 121s 2ms/step - loss: 0.1626 - acc: 0.9497 - val_loss: 0.7248 - val_acc: 0.8253\n",
      "Epoch 16/50\n",
      "Epoch 16/50\n",
      "50000/50000 [==============================] - 121s 2ms/step - loss: 0.1316 - acc: 0.9582 - val_loss: 0.8155 - val_acc: 0.8150\n",
      "50000/50000 [==============================] - 121s 2ms/step - loss: 0.1316 - acc: 0.9582 - val_loss: 0.8155 - val_acc: 0.8150\n",
      "Epoch 17/50\n",
      "Epoch 17/50\n",
      "50000/50000 [==============================] - 121s 2ms/step - loss: 0.1263 - acc: 0.9612 - val_loss: 0.7033 - val_acc: 0.8313\n",
      "50000/50000 [==============================] - 121s 2ms/step - loss: 0.1263 - acc: 0.9612 - val_loss: 0.7033 - val_acc: 0.8313\n",
      "Epoch 18/50\n",
      "Epoch 18/50\n",
      "50000/50000 [==============================] - 121s 2ms/step - loss: 0.1181 - acc: 0.9644 - val_loss: 1.1821 - val_acc: 0.7703\n",
      "50000/50000 [==============================] - 121s 2ms/step - loss: 0.1181 - acc: 0.9644 - val_loss: 1.1821 - val_acc: 0.7703\n",
      "Epoch 19/50\n",
      "Epoch 19/50\n",
      "50000/50000 [==============================] - 121s 2ms/step - loss: 0.1025 - acc: 0.9697 - val_loss: 0.7285 - val_acc: 0.8368\n",
      "50000/50000 [==============================] - 121s 2ms/step - loss: 0.1025 - acc: 0.9697 - val_loss: 0.7285 - val_acc: 0.8368\n",
      "Epoch 20/50\n",
      "Epoch 20/50\n",
      "50000/50000 [==============================] - 77s 2ms/step - loss: 0.1036 - acc: 0.9686 - val_loss: 0.8173 - val_acc: 0.8254\n",
      "50000/50000 [==============================] - 77s 2ms/step - loss: 0.1036 - acc: 0.9686 - val_loss: 0.8173 - val_acc: 0.8254\n",
      "Epoch 21/50\n",
      "  128/50000 [..............................] - ETA: 1:10 - loss: 0.0217 - acc: 1.0000Epoch 21/50\n",
      "50000/50000 [==============================] - 72s 1ms/step - loss: 0.0884 - acc: 0.9741 - val_loss: 0.7619 - val_acc: 0.8324\n",
      "50000/50000 [==============================] - 72s 1ms/step - loss: 0.0884 - acc: 0.9741 - val_loss: 0.7619 - val_acc: 0.8324\n",
      "Epoch 22/50\n",
      "  128/50000 [..............................] - ETA: 1:09 - loss: 0.0360 - acc: 0.9922Epoch 22/50\n",
      "50000/50000 [==============================] - 72s 1ms/step - loss: 0.0784 - acc: 0.9758 - val_loss: 0.9289 - val_acc: 0.8063\n",
      "50000/50000 [==============================] - 72s 1ms/step - loss: 0.0784 - acc: 0.9758 - val_loss: 0.9289 - val_acc: 0.8063\n",
      "Epoch 23/50\n",
      "  128/50000 [..............................] - ETA: 1:08 - loss: 0.0613 - acc: 0.9766Epoch 23/50\n",
      "50000/50000 [==============================] - 72s 1ms/step - loss: 0.0726 - acc: 0.9779 - val_loss: 0.9277 - val_acc: 0.8258\n",
      "50000/50000 [==============================] - 72s 1ms/step - loss: 0.0726 - acc: 0.9779 - val_loss: 0.9277 - val_acc: 0.8258\n",
      "Epoch 24/50\n",
      "  128/50000 [..............................] - ETA: 1:08 - loss: 0.0749 - acc: 0.9922Epoch 24/50\n",
      "50000/50000 [==============================] - 72s 1ms/step - loss: 0.0755 - acc: 0.9771 - val_loss: 0.9052 - val_acc: 0.8154\n",
      "50000/50000 [==============================] - 72s 1ms/step - loss: 0.0755 - acc: 0.9771 - val_loss: 0.9052 - val_acc: 0.8154\n",
      "Epoch 25/50\n",
      "  128/50000 [..............................] - ETA: 1:09 - loss: 0.0562 - acc: 0.9844Epoch 25/50\n",
      "50000/50000 [==============================] - 73s 1ms/step - loss: 0.0648 - acc: 0.9806 - val_loss: 0.8587 - val_acc: 0.8141\n",
      "50000/50000 [==============================] - 73s 1ms/step - loss: 0.0648 - acc: 0.9806 - val_loss: 0.8587 - val_acc: 0.8141\n",
      "Epoch 26/50\n",
      "  128/50000 [..............................] - ETA: 1:11 - loss: 0.0220 - acc: 0.9922Epoch 26/50\n",
      "50000/50000 [==============================] - 72s 1ms/step - loss: 0.0675 - acc: 0.9805 - val_loss: 0.8677 - val_acc: 0.8304\n",
      "50000/50000 [==============================] - 72s 1ms/step - loss: 0.0675 - acc: 0.9805 - val_loss: 0.8677 - val_acc: 0.8304\n",
      "Epoch 27/50\n",
      "  128/50000 [..............................] - ETA: 1:09 - loss: 0.0855 - acc: 0.9609Epoch 27/50\n",
      "50000/50000 [==============================] - 72s 1ms/step - loss: 0.0570 - acc: 0.9829 - val_loss: 0.8623 - val_acc: 0.8320\n",
      "50000/50000 [==============================] - 72s 1ms/step - loss: 0.0570 - acc: 0.9829 - val_loss: 0.8623 - val_acc: 0.8320\n",
      "Epoch 28/50\n",
      "  128/50000 [..............................] - ETA: 1:11 - loss: 0.0578 - acc: 0.9844Epoch 28/50\n",
      "50000/50000 [==============================] - 73s 1ms/step - loss: 0.0530 - acc: 0.9845 - val_loss: 0.8814 - val_acc: 0.8244\n",
      "50000/50000 [==============================] - 73s 1ms/step - loss: 0.0530 - acc: 0.9845 - val_loss: 0.8814 - val_acc: 0.8244\n",
      "Epoch 29/50\n",
      "  128/50000 [..............................] - ETA: 1:11 - loss: 0.1068 - acc: 0.9688Epoch 29/50\n",
      "50000/50000 [==============================] - 73s 1ms/step - loss: 0.0467 - acc: 0.9858 - val_loss: 0.9214 - val_acc: 0.8310\n",
      "50000/50000 [==============================] - 73s 1ms/step - loss: 0.0467 - acc: 0.9858 - val_loss: 0.9214 - val_acc: 0.8310\n",
      "Epoch 30/50\n",
      "  128/50000 [..............................] - ETA: 1:11 - loss: 0.0350 - acc: 0.9844Epoch 30/50\n",
      "50000/50000 [==============================] - 72s 1ms/step - loss: 0.0583 - acc: 0.9825 - val_loss: 1.0610 - val_acc: 0.8026\n",
      "50000/50000 [==============================] - 72s 1ms/step - loss: 0.0583 - acc: 0.9825 - val_loss: 1.0610 - val_acc: 0.8026\n",
      "Epoch 31/50\n",
      "  128/50000 [..............................] - ETA: 1:11 - loss: 0.0360 - acc: 0.9844Epoch 31/50\n",
      "50000/50000 [==============================] - 73s 1ms/step - loss: 0.0763 - acc: 0.9793 - val_loss: 0.8626 - val_acc: 0.8184\n",
      "50000/50000 [==============================] - 73s 1ms/step - loss: 0.0763 - acc: 0.9793 - val_loss: 0.8626 - val_acc: 0.8184\n",
      "Epoch 32/50\n",
      "  128/50000 [..............................] - ETA: 1:11 - loss: 0.0425 - acc: 0.9844Epoch 32/50\n",
      "50000/50000 [==============================] - 73s 1ms/step - loss: 0.0584 - acc: 0.9834 - val_loss: 0.8239 - val_acc: 0.8341\n",
      "50000/50000 [==============================] - 73s 1ms/step - loss: 0.0584 - acc: 0.9834 - val_loss: 0.8239 - val_acc: 0.8341\n",
      "Epoch 33/50\n",
      "  128/50000 [..............................] - ETA: 1:11 - loss: 0.0135 - acc: 1.0000Epoch 33/50\n",
      "50000/50000 [==============================] - 72s 1ms/step - loss: 0.0484 - acc: 0.9859 - val_loss: 0.8841 - val_acc: 0.8269\n",
      "50000/50000 [==============================] - 72s 1ms/step - loss: 0.0484 - acc: 0.9859 - val_loss: 0.8841 - val_acc: 0.8269\n",
      "Epoch 34/50\n",
      "  128/50000 [..............................] - ETA: 1:11 - loss: 0.0252 - acc: 0.9922Epoch 34/50\n",
      "50000/50000 [==============================] - 86s 2ms/step - loss: 0.0406 - acc: 0.9879 - val_loss: 0.9417 - val_acc: 0.8270\n",
      "50000/50000 [==============================] - 86s 2ms/step - loss: 0.0406 - acc: 0.9879 - val_loss: 0.9417 - val_acc: 0.8270\n",
      "Epoch 35/50\n",
      "Epoch 35/50\n",
      "50000/50000 [==============================] - 136s 3ms/step - loss: 0.0556 - acc: 0.9842 - val_loss: 0.9241 - val_acc: 0.8437\n",
      "50000/50000 [==============================] - 136s 3ms/step - loss: 0.0556 - acc: 0.9842 - val_loss: 0.9241 - val_acc: 0.8437\n",
      "Epoch 36/50\n",
      "Epoch 36/50\n",
      "50000/50000 [==============================] - 136s 3ms/step - loss: 0.0488 - acc: 0.9860 - val_loss: 0.8557 - val_acc: 0.8371\n",
      "50000/50000 [==============================] - 136s 3ms/step - loss: 0.0488 - acc: 0.9860 - val_loss: 0.8557 - val_acc: 0.8371\n",
      "Epoch 37/50\n",
      "Epoch 37/50\n",
      "50000/50000 [==============================] - 136s 3ms/step - loss: 0.0377 - acc: 0.9893 - val_loss: 0.8367 - val_acc: 0.8293\n",
      "50000/50000 [==============================] - 136s 3ms/step - loss: 0.0377 - acc: 0.9893 - val_loss: 0.8367 - val_acc: 0.8293\n",
      "Epoch 38/50\n",
      "Epoch 38/50\n",
      "50000/50000 [==============================] - 136s 3ms/step - loss: 0.0403 - acc: 0.9891 - val_loss: 0.9005 - val_acc: 0.8394\n",
      "50000/50000 [==============================] - 136s 3ms/step - loss: 0.0403 - acc: 0.9891 - val_loss: 0.9005 - val_acc: 0.8394\n",
      "Epoch 39/50\n",
      "Epoch 39/50\n",
      "50000/50000 [==============================] - 137s 3ms/step - loss: 0.0465 - acc: 0.9874 - val_loss: 0.8639 - val_acc: 0.8369\n",
      "50000/50000 [==============================] - 137s 3ms/step - loss: 0.0465 - acc: 0.9874 - val_loss: 0.8639 - val_acc: 0.8369\n",
      "Epoch 40/50\n",
      "Epoch 40/50\n",
      "50000/50000 [==============================] - 137s 3ms/step - loss: 0.0413 - acc: 0.9881 - val_loss: 0.8850 - val_acc: 0.8316\n",
      "50000/50000 [==============================] - 137s 3ms/step - loss: 0.0413 - acc: 0.9881 - val_loss: 0.8850 - val_acc: 0.8316\n",
      "Epoch 41/50\n",
      "Epoch 41/50\n",
      "50000/50000 [==============================] - 137s 3ms/step - loss: 0.0319 - acc: 0.9910 - val_loss: 1.0799 - val_acc: 0.8303\n",
      "50000/50000 [==============================] - 137s 3ms/step - loss: 0.0319 - acc: 0.9910 - val_loss: 1.0799 - val_acc: 0.8303\n",
      "Epoch 42/50\n",
      "Epoch 42/50\n",
      "50000/50000 [==============================] - 137s 3ms/step - loss: 0.0460 - acc: 0.9874 - val_loss: 0.8744 - val_acc: 0.8381\n",
      "50000/50000 [==============================] - 137s 3ms/step - loss: 0.0460 - acc: 0.9874 - val_loss: 0.8744 - val_acc: 0.8381\n",
      "Epoch 43/50\n",
      "Epoch 43/50\n",
      "50000/50000 [==============================] - 137s 3ms/step - loss: 0.0364 - acc: 0.9897 - val_loss: 0.8953 - val_acc: 0.8247\n",
      "50000/50000 [==============================] - 137s 3ms/step - loss: 0.0364 - acc: 0.9897 - val_loss: 0.8953 - val_acc: 0.8247\n",
      "Epoch 44/50\n",
      "Epoch 44/50\n",
      "50000/50000 [==============================] - 137s 3ms/step - loss: 0.0392 - acc: 0.9892 - val_loss: 0.9252 - val_acc: 0.8306\n",
      "50000/50000 [==============================] - 137s 3ms/step - loss: 0.0392 - acc: 0.9892 - val_loss: 0.9252 - val_acc: 0.8306\n",
      "Epoch 45/50\n",
      "Epoch 45/50\n",
      "50000/50000 [==============================] - 137s 3ms/step - loss: 0.0389 - acc: 0.9893 - val_loss: 0.8902 - val_acc: 0.8351\n",
      "50000/50000 [==============================] - 137s 3ms/step - loss: 0.0389 - acc: 0.9893 - val_loss: 0.8902 - val_acc: 0.8351\n",
      "Epoch 46/50\n",
      "Epoch 46/50\n",
      "50000/50000 [==============================] - 137s 3ms/step - loss: 0.0316 - acc: 0.9907 - val_loss: 0.9470 - val_acc: 0.8267\n",
      "50000/50000 [==============================] - 137s 3ms/step - loss: 0.0316 - acc: 0.9907 - val_loss: 0.9470 - val_acc: 0.8267\n",
      "Epoch 47/50\n",
      "Epoch 47/50\n",
      "50000/50000 [==============================] - 137s 3ms/step - loss: 0.0391 - acc: 0.9888 - val_loss: 0.9755 - val_acc: 0.8336\n",
      "50000/50000 [==============================] - 137s 3ms/step - loss: 0.0391 - acc: 0.9888 - val_loss: 0.9755 - val_acc: 0.8336\n",
      "Epoch 48/50\n",
      "Epoch 48/50\n",
      "50000/50000 [==============================] - 136s 3ms/step - loss: 0.0496 - acc: 0.9855 - val_loss: 0.8782 - val_acc: 0.8473\n",
      "50000/50000 [==============================] - 136s 3ms/step - loss: 0.0496 - acc: 0.9855 - val_loss: 0.8782 - val_acc: 0.8473\n",
      "Epoch 49/50\n",
      "Epoch 49/50\n",
      "50000/50000 [==============================] - 136s 3ms/step - loss: 0.0238 - acc: 0.9932 - val_loss: 0.9507 - val_acc: 0.8412\n",
      "50000/50000 [==============================] - 136s 3ms/step - loss: 0.0238 - acc: 0.9932 - val_loss: 0.9507 - val_acc: 0.8412\n",
      "Epoch 50/50\n",
      "Epoch 50/50\n",
      "50000/50000 [==============================] - 137s 3ms/step - loss: 0.0215 - acc: 0.9936 - val_loss: 0.9646 - val_acc: 0.8414\n",
      "50000/50000 [==============================] - 137s 3ms/step - loss: 0.0215 - acc: 0.9936 - val_loss: 0.9646 - val_acc: 0.8414\n"
     ]
    },
    {
     "data": {
      "text/plain": [
       "<keras.callbacks.History at 0x7fd355119278>"
      ]
     },
     "execution_count": 6,
     "metadata": {
      "tags": []
     },
     "output_type": "execute_result"
    },
    {
     "data": {
      "text/plain": [
       "<keras.callbacks.History at 0x7fd355119278>"
      ]
     },
     "execution_count": 6,
     "metadata": {
      "tags": []
     },
     "output_type": "execute_result"
    }
   ],
   "source": [
    "model.fit(x_train,y_train,batch_size=batch_size,epochs=epochs,verbose=1,validation_data=(x_test,y_test))\n"
   ]
  },
  {
   "cell_type": "code",
   "execution_count": 0,
   "metadata": {
    "colab": {},
    "colab_type": "code",
    "id": "9H_pzF71yMEA"
   },
   "outputs": [],
   "source": []
  }
 ],
 "metadata": {
  "accelerator": "GPU",
  "colab": {
   "name": "Untitled0.ipynb",
   "provenance": [],
   "version": "0.3.2"
  },
  "kernelspec": {
   "display_name": "Python 3",
   "language": "python",
   "name": "python3"
  },
  "language_info": {
   "codemirror_mode": {
    "name": "ipython",
    "version": 3
   },
   "file_extension": ".py",
   "mimetype": "text/x-python",
   "name": "python",
   "nbconvert_exporter": "python",
   "pygments_lexer": "ipython3",
   "version": "3.7.2"
  }
 },
 "nbformat": 4,
 "nbformat_minor": 1
}
