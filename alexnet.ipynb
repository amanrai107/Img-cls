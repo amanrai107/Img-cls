{
 "cells": [
  {
   "cell_type": "code",
   "execution_count": 1,
   "metadata": {},
   "outputs": [
    {
     "name": "stderr",
     "output_type": "stream",
     "text": [
      "C:\\Users\\acer\\Anaconda3\\lib\\site-packages\\h5py\\__init__.py:36: FutureWarning: Conversion of the second argument of issubdtype from `float` to `np.floating` is deprecated. In future, it will be treated as `np.float64 == np.dtype(float).type`.\n",
      "  from ._conv import register_converters as _register_converters\n",
      "Using TensorFlow backend.\n"
     ]
    }
   ],
   "source": [
    "\n",
    "import keras\n",
    "from keras.datasets import cifar10\n",
    "from keras.models import Sequential\n",
    "from keras.layers import Dense,Dropout,Flatten\n",
    "from keras.layers import Conv2D,MaxPooling2D,BatchNormalization\n",
    "from keras.optimizers import Adam"
   ]
  },
  {
   "cell_type": "code",
   "execution_count": 2,
   "metadata": {},
   "outputs": [],
   "source": [
    "batch_size = 128\n",
    "num_classes = 10\n",
    "epochs = 50\n",
    "\n",
    "(x_train,y_train) , (x_test,y_test)=cifar10.load_data()\n",
    "img_height,img_width,channel= x_train.shape[1],x_train.shape[2],x_train.shape[3]\n"
   ]
  },
  {
   "cell_type": "code",
   "execution_count": 3,
   "metadata": {},
   "outputs": [],
   "source": [
    "y_train = keras.utils.to_categorical(y_train,num_classes)\n",
    "y_test = keras.utils.to_categorical(y_test,num_classes)\n",
    "classifier=Sequential()\n",
    "classifier.add(Conv2D(filters=96,kernel_size=(3,3),strides =(2,2),padding='same',input_shape=(img_height,img_width,channel),activation ='relu'))\n",
    "classifier.add(MaxPooling2D(pool_size=(2,2),strides=(2,2)))\n",
    "classifier.add(BatchNormalization())\n",
    "classifier.add(Conv2D(filters=256,kernel_size=(5,5),padding='same',activation ='relu'))\n",
    "classifier.add(MaxPooling2D(pool_size=(3,3),strides=(2,2)))\n",
    "classifier.add(BatchNormalization())\n",
    "classifier.add(Conv2D(filters=384,kernel_size=(3,3),padding='same',activation ='relu'))\n",
    "classifier.add(Conv2D(filters=384,kernel_size=(3,3),padding='same',activation ='relu'))\n",
    "classifier.add(Conv2D(filters=256,kernel_size=(3,3),padding='same',activation ='relu'))\n",
    "classifier.add(MaxPooling2D(pool_size=(3,3),strides=(2,2)))\n",
    "classifier.add(Flatten())\n",
    "classifier.add(Dense(4096,activation='tanh'))\n",
    "classifier.add(Dropout(0.5))\n",
    "classifier.add(Dense(4096,activation='tanh'))\n",
    "classifier.add(Dropout(0.5))\n",
    "classifier.add(Dense(num_classes,activation='softmax'))"
   ]
  },
  {
   "cell_type": "code",
   "execution_count": null,
   "metadata": {},
   "outputs": [
    {
     "name": "stdout",
     "output_type": "stream",
     "text": [
      "_________________________________________________________________\n",
      "Layer (type)                 Output Shape              Param #   \n",
      "=================================================================\n",
      "conv2d_1 (Conv2D)            (None, 16, 16, 96)        2688      \n",
      "_________________________________________________________________\n",
      "max_pooling2d_1 (MaxPooling2 (None, 8, 8, 96)          0         \n",
      "_________________________________________________________________\n",
      "batch_normalization_1 (Batch (None, 8, 8, 96)          384       \n",
      "_________________________________________________________________\n",
      "conv2d_2 (Conv2D)            (None, 8, 8, 256)         614656    \n",
      "_________________________________________________________________\n",
      "max_pooling2d_2 (MaxPooling2 (None, 3, 3, 256)         0         \n",
      "_________________________________________________________________\n",
      "batch_normalization_2 (Batch (None, 3, 3, 256)         1024      \n",
      "_________________________________________________________________\n",
      "conv2d_3 (Conv2D)            (None, 3, 3, 384)         885120    \n",
      "_________________________________________________________________\n",
      "conv2d_4 (Conv2D)            (None, 3, 3, 384)         1327488   \n",
      "_________________________________________________________________\n",
      "conv2d_5 (Conv2D)            (None, 3, 3, 256)         884992    \n",
      "_________________________________________________________________\n",
      "max_pooling2d_3 (MaxPooling2 (None, 1, 1, 256)         0         \n",
      "_________________________________________________________________\n",
      "flatten_1 (Flatten)          (None, 256)               0         \n",
      "_________________________________________________________________\n",
      "dense_1 (Dense)              (None, 4096)              1052672   \n",
      "_________________________________________________________________\n",
      "dropout_1 (Dropout)          (None, 4096)              0         \n",
      "_________________________________________________________________\n",
      "dense_2 (Dense)              (None, 4096)              16781312  \n",
      "_________________________________________________________________\n",
      "dropout_2 (Dropout)          (None, 4096)              0         \n",
      "_________________________________________________________________\n",
      "dense_3 (Dense)              (None, 10)                40970     \n",
      "=================================================================\n",
      "Total params: 21,591,306\n",
      "Trainable params: 21,590,602\n",
      "Non-trainable params: 704\n",
      "_________________________________________________________________\n",
      "Train on 50000 samples, validate on 10000 samples\n",
      "Epoch 1/50\n",
      "11008/50000 [=====>........................] - ETA: 17:47 - loss: 10.3180 - acc: 0.1366"
     ]
    }
   ],
   "source": [
    "classifier.summary()\n",
    "classifier.compile(loss='categorical_crossentropy',optimizer='adam',metrics=['accuracy'])\n",
    "classifier.fit(x_train,y_train,batch_size=batch_size,epochs=epochs,verbose=1,validation_data=(x_test,y_test))\n",
    "score = classifier.evaluate(x_test,y_test,verbose=0)\n",
    "print(\"test loss={:.4f}\".format(score[0]))\n",
    "print(\"test acc={:.4f}\".format(score[1]))\n"
   ]
  },
  {
   "cell_type": "code",
   "execution_count": null,
   "metadata": {},
   "outputs": [],
   "source": []
  }
 ],
 "metadata": {
  "kernelspec": {
   "display_name": "Python 3",
   "language": "python",
   "name": "python3"
  },
  "language_info": {
   "codemirror_mode": {
    "name": "ipython",
    "version": 3
   },
   "file_extension": ".py",
   "mimetype": "text/x-python",
   "name": "python",
   "nbconvert_exporter": "python",
   "pygments_lexer": "ipython3",
   "version": "3.6.5"
  }
 },
 "nbformat": 4,
 "nbformat_minor": 2
}
